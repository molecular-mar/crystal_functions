{
 "cells": [
  {
   "cell_type": "code",
   "execution_count": 1,
   "metadata": {},
   "outputs": [],
   "source": [
    "from file_readwrite import Crystal_red_density"
   ]
  },
  {
   "cell_type": "code",
   "execution_count": 2,
   "metadata": {},
   "outputs": [],
   "source": [
    "matrix_out = \"/home/mra/simulaciones/h_basicTest/h_pmat.out\""
   ]
  },
  {
   "cell_type": "code",
   "execution_count": 3,
   "metadata": {},
   "outputs": [],
   "source": [
    "red_dens_test = Crystal_red_density()"
   ]
  },
  {
   "cell_type": "code",
   "execution_count": 7,
   "metadata": {},
   "outputs": [],
   "source": [
    "from IPython.core.debugger import Pdb"
   ]
  },
  {
   "cell_type": "code",
   "execution_count": 4,
   "metadata": {},
   "outputs": [],
   "source": [
    "red_dens_test.read_cry_density(printout_output=matrix_out)"
   ]
  },
  {
   "cell_type": "code",
   "execution_count": 5,
   "metadata": {},
   "outputs": [
    {
     "data": {
      "text/plain": [
       "[[0.037008,\n",
       "  -0.00087476,\n",
       "  0.1528,\n",
       "  0.0,\n",
       "  1.188e-34,\n",
       "  0.0,\n",
       "  0.037008,\n",
       "  -0.00087477,\n",
       "  0.1528,\n",
       "  0.0,\n",
       "  0.0,\n",
       "  0.0],\n",
       " [-0.00087476,\n",
       "  2.3043e-05,\n",
       "  -0.0036125,\n",
       "  0.0,\n",
       "  -2.8079e-36,\n",
       "  0.0,\n",
       "  -0.00087476,\n",
       "  2.3044e-05,\n",
       "  -0.0036125,\n",
       "  0.0,\n",
       "  0.0,\n",
       "  0.0],\n",
       " [0.1528,\n",
       "  -0.0036125,\n",
       "  0.63092,\n",
       "  0.0,\n",
       "  4.9052e-34,\n",
       "  0.0,\n",
       "  0.1528,\n",
       "  -0.0036126,\n",
       "  0.63092,\n",
       "  0.0,\n",
       "  0.0,\n",
       "  0.0],\n",
       " [0.0, 0.0, 0.0, 0.0, 0.0, 0.0, 0.0, 0.0, 0.0, 0.0, 0.0, 0.0],\n",
       " [1.188e-34,\n",
       "  -2.8079e-36,\n",
       "  4.9052e-34,\n",
       "  0.0,\n",
       "  3.8136e-67,\n",
       "  0.0,\n",
       "  1.188e-34,\n",
       "  -2.808e-36,\n",
       "  4.9052e-34,\n",
       "  0.0,\n",
       "  0.0,\n",
       "  0.0],\n",
       " [0.0, 0.0, 0.0, 0.0, 0.0, 0.0, 0.0, 0.0, 0.0, 0.0, 0.0, 0.0],\n",
       " [0.037008,\n",
       "  -0.00087476,\n",
       "  0.1528,\n",
       "  0.0,\n",
       "  1.188e-34,\n",
       "  0.0,\n",
       "  0.037008,\n",
       "  -0.00087477,\n",
       "  0.1528,\n",
       "  0.0,\n",
       "  0.0,\n",
       "  0.0],\n",
       " [-0.00087477,\n",
       "  2.3044e-05,\n",
       "  -0.0036126,\n",
       "  0.0,\n",
       "  -2.808e-36,\n",
       "  0.0,\n",
       "  -0.00087477,\n",
       "  2.3044e-05,\n",
       "  -0.0036126,\n",
       "  0.0,\n",
       "  0.0,\n",
       "  0.0],\n",
       " [0.1528,\n",
       "  -0.0036125,\n",
       "  0.63092,\n",
       "  0.0,\n",
       "  4.9052e-34,\n",
       "  0.0,\n",
       "  0.1528,\n",
       "  -0.0036126,\n",
       "  0.63092,\n",
       "  0.0,\n",
       "  0.0,\n",
       "  0.0],\n",
       " [0.0, 0.0, 0.0, 0.0, 0.0, 0.0, 0.0, 0.0, 0.0, 0.0, 0.0, 0.0],\n",
       " [0.0, 0.0, 0.0, 0.0, 0.0, 0.0, 0.0, 0.0, 0.0, 0.0, 0.0, 0.0],\n",
       " [0.0, 0.0, 0.0, 0.0, 0.0, 0.0, 0.0, 0.0, 0.0, 0.0, 0.0, 0.0]]"
      ]
     },
     "execution_count": 5,
     "metadata": {},
     "output_type": "execute_result"
    }
   ],
   "source": [
    "red_dens_test.p_matrices[0]"
   ]
  },
  {
   "cell_type": "code",
   "execution_count": 6,
   "metadata": {},
   "outputs": [
    {
     "data": {
      "image/png": "[encoded data removed]",
      "text/plain": [
       "<Figure size 720x720 with 1 Axes>"
      ]
     },
     "metadata": {
      "needs_background": "light"
     },
     "output_type": "display_data"
    }
   ],
   "source": [
    "import matplotlib.pyplot as plt\n",
    "import mplcursors\n",
    "\n",
    "currentMat = red_dens_test.p_matrices[0]\n",
    "\n",
    "fig, ax = plt.subplots()\n",
    "\n",
    "fig.set_size_inches(10,10)\n",
    "\n",
    "def show_annotation(sel):\n",
    "    i,j = sel.index\n",
    "    sel.annotation.set_text(fr'$\\mu$:{sel.annotation.xy[0]:.0f}' \"\\n\"  fr'$\\nu$:{sel.annotation.xy[1]:.0f}' \"\\n\" fr'S:{currentMat[i][j]}')\n",
    "\n",
    "fig.canvas.mpl_connect(\"motion_notify_event\",\n",
    "                       lambda event: fig.canvas.toolbar.set_message(\"\"))\n",
    "\n",
    "min_val, max_val = -1, 1\n",
    "\n",
    "ax.matshow(currentMat, cmap=plt.cm.BrBG, vmin= min_val, vmax= max_val)\n",
    "\n",
    "cursor = mplcursors.cursor(hover=True)\n",
    "cursor.connect(\"add\", show_annotation)\n",
    "plt.show()"
   ]
  },
  {
   "cell_type": "code",
   "execution_count": null,
   "metadata": {},
   "outputs": [],
   "source": []
  }
 ],
 "metadata": {
  "kernelspec": {
   "display_name": "Python 3.9.13 64-bit",
   "language": "python",
   "name": "python3"
  },
  "language_info": {
   "codemirror_mode": {
    "name": "ipython",
    "version": 3
   },
   "file_extension": ".py",
   "mimetype": "text/x-python",
   "name": "python",
   "nbconvert_exporter": "python",
   "pygments_lexer": "ipython3",
   "version": "3.9.13"
  },
  "orig_nbformat": 4,
  "vscode": {
   "interpreter": {
    "hash": "e7370f93d1d0cde622a1f8e1c04877d8463912d04d973331ad4851f04de6915a"
   }
  }
 },
 "nbformat": 4,
 "nbformat_minor": 2
}
